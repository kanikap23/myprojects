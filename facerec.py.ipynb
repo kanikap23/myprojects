{
 "cells": [
  {
   "cell_type": "code",
   "execution_count": 1,
   "id": "dfb04c52",
   "metadata": {},
   "outputs": [
    {
     "name": "stdout",
     "output_type": "stream",
     "text": [
      "Image captured.\n",
      "No match found.\n"
     ]
    }
   ],
   "source": [
    "import cv2\n",
    "import face_recognition\n",
    "import os\n",
    "import random\n",
    "from playsound import playsound\n",
    "\n",
    "cap = cv2.VideoCapture(0)\n",
    "captured_image = None\n",
    "\n",
    "while True:\n",
    "    # Read a frame from the camera\n",
    "    ret, frame = cap.read()\n",
    "    \n",
    "    # Check if the frame is valid\n",
    "    if not ret:\n",
    "        print(\"Failed to capture frame.\")\n",
    "        continue\n",
    "    \n",
    "    # Display the frame\n",
    "    cv2.imshow(\"Live Capture\", frame)\n",
    "    \n",
    "    # Check for key presses\n",
    "    key = cv2.waitKey(1) & 0xFF\n",
    "    \n",
    "    # Store the frame when 'c' is pressed\n",
    "    if key == ord('c'):\n",
    "        captured_image = frame.copy()\n",
    "        print(\"Image captured.\")\n",
    "        \n",
    "    # Compare the captured image with the current frame when 'p' is pressed\n",
    "    elif key == ord('p'):\n",
    "        if captured_image is None:\n",
    "            print(\"No image captured yet.\")\n",
    "        else:\n",
    "            # Perform comparison logic here with 'captured_image' and 'frame'\n",
    "            img = cv2.cvtColor(captured_image, cv2.COLOR_BGR2RGB)\n",
    "            saved_encoding = face_recognition.face_encodings(img)[0]\n",
    "            folder_path = \"images/\"\n",
    "            for filename in os.listdir(folder_path):\n",
    "                img2 = cv2.imread(os.path.join(folder_path, filename))\n",
    "                rgb_img2 = cv2.cvtColor(img2, cv2.COLOR_BGR2RGB)\n",
    "                saved_encoding2 = face_recognition.face_encodings(rgb_img2)[0]\n",
    "                result = face_recognition.compare_faces([saved_encoding], saved_encoding2)[0]\n",
    "                if result:\n",
    "                    print(\"Match found.\")\n",
    "                    break\n",
    "            else:\n",
    "                print(\"No match found.\")\n",
    "                s=r\"C:\\Users\\hp\\Desktop\\final year project\\security-alarm-80493.mp3\"\n",
    "                playsound(s)\n",
    "\n",
    "    # Release the camera and close all windows when 'q' is pressed\n",
    "    elif key == ord('q'):\n",
    "        cap.release()\n",
    "        cv2.destroyAllWindows()\n",
    "        break\n"
   ]
  },
  {
   "cell_type": "code",
   "execution_count": null,
   "id": "66616ac1",
   "metadata": {},
   "outputs": [],
   "source": []
  }
 ],
 "metadata": {
  "kernelspec": {
   "display_name": "Python 3 (ipykernel)",
   "language": "python",
   "name": "python3"
  },
  "language_info": {
   "codemirror_mode": {
    "name": "ipython",
    "version": 3
   },
   "file_extension": ".py",
   "mimetype": "text/x-python",
   "name": "python",
   "nbconvert_exporter": "python",
   "pygments_lexer": "ipython3",
   "version": "3.11.3"
  }
 },
 "nbformat": 4,
 "nbformat_minor": 5
}
